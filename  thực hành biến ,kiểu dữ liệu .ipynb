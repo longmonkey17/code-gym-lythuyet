{
 "cells": [
  {
   "cell_type": "markdown",
   "id": "38ae5a85-fb7e-4e6f-a773-1312d7c9855a",
   "metadata": {},
   "source": [
    "## Bài 1\n",
    "Viết chương trình nhập vào 2 số nguyên `num1` và `num2`. In ra tích của 2 số nguyên đó."
   ]
  },
  {
   "cell_type": "code",
   "execution_count": 8,
   "id": "edc1e175-ccba-4509-a5c8-7827debc0fc7",
   "metadata": {},
   "outputs": [
    {
     "name": "stdin",
     "output_type": "stream",
     "text": [
      "Nhập vào num1: 4\n",
      "Nhập vào num2: 5\n"
     ]
    },
    {
     "name": "stdout",
     "output_type": "stream",
     "text": [
      "tích=  20.0\n"
     ]
    }
   ],
   "source": [
    "n=float(input (\"Nhập vào num1:\"))\n",
    "m=float(input (\"Nhập vào num2:\"))\n",
    "tich = m*n\n",
    "print(\"tích= \",tich)"
   ]
  },
  {
   "cell_type": "markdown",
   "id": "b511a650-c1dd-41aa-9914-f6982af6c767",
   "metadata": {},
   "source": [
    "## Bài 2 \n",
    "Nhập vào ba biến `diem_toan`, `diem_ly`, `diem_hoa` và in ra điểm trung bình của ba môn học trên."
   ]
  },
  {
   "cell_type": "code",
   "execution_count": 9,
   "id": "c26267d7-887d-4831-9d61-b5d72d0fe961",
   "metadata": {},
   "outputs": [
    {
     "name": "stdin",
     "output_type": "stream",
     "text": [
      "Nhập vào điểm toán: 6.7\n",
      "Nhập vào điểm lý: 7.8\n",
      "Nhập vào điểm hoá: 9\n"
     ]
    },
    {
     "name": "stdout",
     "output_type": "stream",
     "text": [
      "điểm Trung Bình=  7.833333333333333\n"
     ]
    }
   ],
   "source": [
    "diem_toan=float(input (\"Nhập vào điểm toán:\"))\n",
    "diem_ly=float(input (\"Nhập vào điểm lý:\"))\n",
    "diem_hoa=float(input (\"Nhập vào điểm hoá:\"))\n",
    "diem_TB=(diem_toan + diem_ly + diem_hoa)/3\n",
    "print(\"điểm Trung Bình= \",diem_TB)"
   ]
  },
  {
   "cell_type": "markdown",
   "id": "5e1ac4a9-80a9-4ef4-8255-dbc6af5dc617",
   "metadata": {},
   "source": [
    "## Bài 3\n",
    "Nhập vào vận tốc của đoàn tàu theo đơn vị km/h.\n",
    "\n",
    "a. Hỏi trung bình mỗi phút đoàn tàu đi được bao nhiêu mét?\n",
    "\n",
    "b. Sau 1 giờ 12 phút đoàn tàu đi được bao nhiêu km?"
   ]
  },
  {
   "cell_type": "code",
   "execution_count": 17,
   "id": "8df4372c-d812-49d9-a035-1551d40b33ed",
   "metadata": {},
   "outputs": [
    {
     "name": "stdin",
     "output_type": "stream",
     "text": [
      "vận tốc của tàu : km/h 200\n"
     ]
    },
    {
     "name": "stdout",
     "output_type": "stream",
     "text": [
      "Trung Bình mối phút :3333.3333333333335 m \n",
      "sau 1h12 đoàn tau đi được : 240.0 km\n"
     ]
    }
   ],
   "source": [
    "V_tau=float(input(\"vận tốc của tàu : km/h\"))\n",
    "S_1p=V_tau * 1000/60\n",
    "S=V_tau * (1+12/60)\n",
    "print(f\"Trung Bình mối phút :{S_1p} m \")\n",
    "print(f\"sau 1h12 đoàn tau đi được : {S} km\")"
   ]
  },
  {
   "cell_type": "code",
   "execution_count": null,
   "id": "9ce12c40-5549-49ec-b63e-a85b373c74ae",
   "metadata": {},
   "outputs": [],
   "source": []
  }
 ],
 "metadata": {
  "kernelspec": {
   "display_name": "Python 3 (ipykernel)",
   "language": "python",
   "name": "python3"
  },
  "language_info": {
   "codemirror_mode": {
    "name": "ipython",
    "version": 3
   },
   "file_extension": ".py",
   "mimetype": "text/x-python",
   "name": "python",
   "nbconvert_exporter": "python",
   "pygments_lexer": "ipython3",
   "version": "3.10.1"
  }
 },
 "nbformat": 4,
 "nbformat_minor": 5
}
